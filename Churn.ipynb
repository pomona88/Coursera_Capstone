{
 "cells": [
  {
   "cell_type": "markdown",
   "metadata": {},
   "source": [
    "# Predict restaurant churn using Foursquare rating and other variables"
   ]
  },
  {
   "cell_type": "code",
   "execution_count": 1,
   "metadata": {},
   "outputs": [
    {
     "name": "stdout",
     "output_type": "stream",
     "text": [
      "Libraries imported.\n"
     ]
    }
   ],
   "source": [
    "%matplotlib inline\n",
    "import numpy as np\n",
    "import pandas as pd\n",
    "from sklearn import ensemble\n",
    "from sklearn import neighbors\n",
    "from sklearn import linear_model\n",
    "from sklearn import svm\n",
    "from sklearn import tree\n",
    "from sklearn import preprocessing\n",
    "from sklearn.preprocessing import StandardScaler\n",
    "from sklearn import model_selection\n",
    "from sklearn.model_selection import StratifiedKFold\n",
    "from sklearn import metrics\n",
    "import matplotlib as mlp\n",
    "import matplotlib.pyplot as plt\n",
    "import seaborn as sns\n",
    "import json \n",
    "from geopy.geocoders import Nominatim # convert an address into latitude and longitude values\n",
    "import requests\n",
    "print('Libraries imported.')"
   ]
  },
  {
   "cell_type": "markdown",
   "metadata": {},
   "source": [
    "Import dataset"
   ]
  },
  {
   "cell_type": "code",
   "execution_count": 2,
   "metadata": {
    "scrolled": true
   },
   "outputs": [
    {
     "data": {
      "text/plain": [
       "<bound method NDFrame.head of     Business status  Account #                         DBA  \\\n",
       "0            Active      10146            A & W Restaurant   \n",
       "1            Active      58190                      Aloh-O   \n",
       "2            Active      56585               Amber Kitchen   \n",
       "3            Active      28047  Amicis East Coast Pizzeria   \n",
       "4            Active      56835    Antiguas Cafe Restaurant   \n",
       "..              ...        ...                         ...   \n",
       "201          Active      47341             Whipper Snapper   \n",
       "202          Active      57558                      Woking   \n",
       "203          Active      33766                     Yet Wah   \n",
       "204          Active      12580   Yu Shang Mandarin Cuisine   \n",
       "205          Active      57722                  Yuzu Ramen   \n",
       "\n",
       "              Bus Address       Ownership type       Geo  Start date  \\\n",
       "0        3741 REDWOOD HWY          Partnership        TL   5/16/1978   \n",
       "1       276 NORTHGATE DR           Corporation        TL   6/18/2018   \n",
       "2                810 B ST          Corporation  Downtown    7/1/2016   \n",
       "3             1242 4TH ST          Corporation  Downtown  12/10/1995   \n",
       "4              703 3RD ST          Corporation  Downtown   11/1/2016   \n",
       "..                    ...                  ...       ...         ...   \n",
       "201           1613 4TH ST     Ltd Liability Co  Downtown   11/1/2008   \n",
       "202  418 LAS GALLINAS AVE     Ltd Liability Co        TL    9/6/2017   \n",
       "203      1236-1238 4TH ST     Ltd Liability Co  Downtown    1/1/2001   \n",
       "204       180 BELLAM BLVD  Sole Proprietorship     Canal    2/2/1979   \n",
       "205            908 4TH ST          Corporation  Downtown  11/25/2017   \n",
       "\n",
       "    Close date  Years Tags Expiration date  \n",
       "0          NaN     41    N      12/31/2020  \n",
       "1          NaN      1    N      12/31/2020  \n",
       "2          NaN      3    N      12/31/2019  \n",
       "3          NaN     24    N      12/31/2020  \n",
       "4          NaN      3    N      12/31/2020  \n",
       "..         ...    ...  ...             ...  \n",
       "201        NaN     11    N      12/31/2020  \n",
       "202        NaN      2    N      12/31/2020  \n",
       "203        NaN     18    N      12/31/2020  \n",
       "204        NaN     40    N      12/31/2020  \n",
       "205        NaN      2    N      12/31/2020  \n",
       "\n",
       "[206 rows x 11 columns]>"
      ]
     },
     "execution_count": 2,
     "metadata": {},
     "output_type": "execute_result"
    }
   ],
   "source": [
    "licenses = pd.read_excel('SKLearn_3.xls', header = 0, delimiter = \"\\t\")\n",
    "licenses.head"
   ]
  },
  {
   "cell_type": "markdown",
   "metadata": {},
   "source": [
    "Perform exploratory data analysis"
   ]
  },
  {
   "cell_type": "code",
   "execution_count": 3,
   "metadata": {},
   "outputs": [
    {
     "data": {
      "text/plain": [
       "Active      187\n",
       "Closeout     19\n",
       "Name: Business status, dtype: int64"
      ]
     },
     "execution_count": 3,
     "metadata": {},
     "output_type": "execute_result"
    }
   ],
   "source": [
    "licenses['Business status'].value_counts()"
   ]
  },
  {
   "cell_type": "code",
   "execution_count": 4,
   "metadata": {},
   "outputs": [
    {
     "data": {
      "text/plain": [
       "Corporation            95\n",
       "Sole Proprietorship    60\n",
       "Ltd Liability Co       42\n",
       "Partnership             9\n",
       "Name: Ownership type, dtype: int64"
      ]
     },
     "execution_count": 4,
     "metadata": {},
     "output_type": "execute_result"
    }
   ],
   "source": [
    "licenses['Ownership type'].value_counts()"
   ]
  },
  {
   "cell_type": "code",
   "execution_count": 5,
   "metadata": {},
   "outputs": [
    {
     "data": {
      "image/png": "[encoded data removed]",
      "text/plain": [
       "<Figure size 864x216 with 4 Axes>"
      ]
     },
     "metadata": {
      "needs_background": "light"
     },
     "output_type": "display_data"
    }
   ],
   "source": [
    "bins = np.linspace(licenses.Years.min(), licenses.Years.max(), 10)\n",
    "g = sns.FacetGrid(licenses, col=\"Ownership type\", hue = \"Business status\", palette = \"Set2\", col_wrap = 4)\n",
    "g.map(plt.hist, 'Years', bins = bins, ec = \"k\")\n",
    "g.axes[-1].legend()\n",
    "plt.show()"
   ]
  },
  {
   "cell_type": "code",
   "execution_count": 6,
   "metadata": {},
   "outputs": [
    {
     "data": {
      "text/plain": [
       "Downtown            114\n",
       "TL                   42\n",
       "Canal                28\n",
       "Northgate Ind Pk     11\n",
       "Br Harte              9\n",
       "SP Ridge              1\n",
       "Linc/SV               1\n",
       "Name: Geo, dtype: int64"
      ]
     },
     "execution_count": 6,
     "metadata": {},
     "output_type": "execute_result"
    }
   ],
   "source": [
    "licenses['Geo'].value_counts()"
   ]
  },
  {
   "cell_type": "code",
   "execution_count": 7,
   "metadata": {},
   "outputs": [
    {
     "data": {
      "image/png": "[encoded data removed]",
      "text/plain": [
       "<Figure size 864x432 with 7 Axes>"
      ]
     },
     "metadata": {
      "needs_background": "light"
     },
     "output_type": "display_data"
    }
   ],
   "source": [
    "bins = np.linspace(licenses.Years.min(), licenses.Years.max(), 10)\n",
    "g = sns.FacetGrid(licenses, col = \"Geo\", hue = \"Business status\", palette = \"Set2\", col_wrap=4)\n",
    "g.map(plt.hist, 'Years', bins = bins, ec = \"k\")\n",
    "g.axes[-1].legend()\n",
    "plt.show()"
   ]
  },
  {
   "cell_type": "code",
   "execution_count": 8,
   "metadata": {},
   "outputs": [],
   "source": [
    "# Note that many neighborhoods have few records compared to downtown\n",
    "\n",
    "licenses['Downtown'] = licenses['Geo'].apply(lambda x: \"Y\" if (x == \"Downtown\") else \"N\") # consolidate neighborhoods into Downtown and not Downtown"
   ]
  },
  {
   "cell_type": "code",
   "execution_count": 9,
   "metadata": {},
   "outputs": [
    {
     "data": {
      "text/plain": [
       "<bound method NDFrame.head of     Business status  Account #                         DBA  \\\n",
       "0            Active      10146            A & W Restaurant   \n",
       "1            Active      58190                      Aloh-O   \n",
       "2            Active      56585               Amber Kitchen   \n",
       "3            Active      28047  Amicis East Coast Pizzeria   \n",
       "4            Active      56835    Antiguas Cafe Restaurant   \n",
       "..              ...        ...                         ...   \n",
       "201          Active      47341             Whipper Snapper   \n",
       "202          Active      57558                      Woking   \n",
       "203          Active      33766                     Yet Wah   \n",
       "204          Active      12580   Yu Shang Mandarin Cuisine   \n",
       "205          Active      57722                  Yuzu Ramen   \n",
       "\n",
       "              Bus Address       Ownership type       Geo  Start date  \\\n",
       "0        3741 REDWOOD HWY          Partnership        TL   5/16/1978   \n",
       "1       276 NORTHGATE DR           Corporation        TL   6/18/2018   \n",
       "2                810 B ST          Corporation  Downtown    7/1/2016   \n",
       "3             1242 4TH ST          Corporation  Downtown  12/10/1995   \n",
       "4              703 3RD ST          Corporation  Downtown   11/1/2016   \n",
       "..                    ...                  ...       ...         ...   \n",
       "201           1613 4TH ST     Ltd Liability Co  Downtown   11/1/2008   \n",
       "202  418 LAS GALLINAS AVE     Ltd Liability Co        TL    9/6/2017   \n",
       "203      1236-1238 4TH ST     Ltd Liability Co  Downtown    1/1/2001   \n",
       "204       180 BELLAM BLVD  Sole Proprietorship     Canal    2/2/1979   \n",
       "205            908 4TH ST          Corporation  Downtown  11/25/2017   \n",
       "\n",
       "    Close date  Years Tags Expiration date Downtown  \n",
       "0          NaN     41    N      12/31/2020        N  \n",
       "1          NaN      1    N      12/31/2020        N  \n",
       "2          NaN      3    N      12/31/2019        Y  \n",
       "3          NaN     24    N      12/31/2020        Y  \n",
       "4          NaN      3    N      12/31/2020        Y  \n",
       "..         ...    ...  ...             ...      ...  \n",
       "201        NaN     11    N      12/31/2020        Y  \n",
       "202        NaN      2    N      12/31/2020        N  \n",
       "203        NaN     18    N      12/31/2020        Y  \n",
       "204        NaN     40    N      12/31/2020        N  \n",
       "205        NaN      2    N      12/31/2020        Y  \n",
       "\n",
       "[206 rows x 12 columns]>"
      ]
     },
     "execution_count": 9,
     "metadata": {},
     "output_type": "execute_result"
    }
   ],
   "source": [
    "licenses.head"
   ]
  },
  {
   "cell_type": "code",
   "execution_count": 10,
   "metadata": {},
   "outputs": [
    {
     "data": {
      "image/png": "[encoded data removed]",
      "text/plain": [
       "<Figure size 864x216 with 2 Axes>"
      ]
     },
     "metadata": {
      "needs_background": "light"
     },
     "output_type": "display_data"
    }
   ],
   "source": [
    "bins = np.linspace(licenses.Years.min(), licenses.Years.max(), 10)\n",
    "g = sns.FacetGrid(licenses, col = \"Downtown\", hue = \"Business status\", palette = \"Set2\", col_wrap = 4)\n",
    "g.map(plt.hist, 'Years', bins = bins, ec = \"k\")\n",
    "g.axes[-1].legend()\n",
    "plt.show()"
   ]
  },
  {
   "cell_type": "markdown",
   "metadata": {},
   "source": [
    "Load Foursquare credentials"
   ]
  },
  {
   "cell_type": "code",
   "execution_count": 11,
   "metadata": {},
   "outputs": [],
   "source": [
    "Foursquare_json = json.loads(open('Foursquare.json').read())"
   ]
  },
  {
   "cell_type": "code",
   "execution_count": 12,
   "metadata": {},
   "outputs": [],
   "source": [
    "CLIENT_ID = Foursquare_json['CLIENT_ID'] # your Foursquare ID\n",
    "CLIENT_SECRET = Foursquare_json['CLIENT_SECRET'] # your Foursquare Secret\n",
    "VERSION = Foursquare_json['VERSION'] # Foursquare API version\n",
    "LIMIT = 500\n",
    "radius = 700"
   ]
  },
  {
   "cell_type": "markdown",
   "metadata": {},
   "source": [
    "Get Foursquare IDs and ratings for every record"
   ]
  },
  {
   "cell_type": "code",
   "execution_count": 13,
   "metadata": {},
   "outputs": [],
   "source": [
    "def getID(arg1, arg2):\n",
    "    address = arg1 + ', San Rafael, CA'\n",
    "    geolocator = Nominatim(user_agent = \"foursquare_agent\")\n",
    "    \n",
    "    try:\n",
    "        location = geolocator.geocode(address)\n",
    "        latitude = location.latitude\n",
    "        longitude = location.longitude\n",
    "        search_query = arg2\n",
    "        url = 'https://api.foursquare.com/v2/venues/search?client_id={}&client_secret={}&ll={},{}&v={}&query={}&radius={}&limit={}'.format(CLIENT_ID, CLIENT_SECRET, latitude, longitude, VERSION, search_query, radius, LIMIT)\n",
    "        result = requests.get(url).json()  \n",
    "    # assign relevant part of JSON to venues\n",
    "        venues = result['response']['venues']\n",
    "        venue_ID = venues[0]['id']\n",
    "        venue_name = venues[0]['name']\n",
    "\n",
    "    except:        \n",
    "        venue_ID = '' #failed to retrieve\n",
    "        venue_name = '' #failed to retrieve\n",
    "        \n",
    "    finally:\n",
    "        return venue_name, venue_ID"
   ]
  },
  {
   "cell_type": "code",
   "execution_count": 14,
   "metadata": {},
   "outputs": [],
   "source": [
    "def getRating(arg1):\n",
    "    \n",
    "    if arg1 == '':\n",
    "        return '' #assume failure to locate implies not popular enough to garner any rating\n",
    "    \n",
    "    else:\n",
    "        try:\n",
    "            url = 'https://api.foursquare.com/v2/venues/{}?client_id={}&client_secret={}&v={}'.format(arg1, CLIENT_ID, CLIENT_SECRET, VERSION)\n",
    "            result = requests.get(url).json()\n",
    "            venue_rating = result['response']['venue']['rating']\n",
    "                \n",
    "        except:\n",
    "            venue_rating = '' #failed to retrieve\n",
    "            \n",
    "        finally:\n",
    "            return venue_rating"
   ]
  },
  {
   "cell_type": "code",
   "execution_count": 15,
   "metadata": {},
   "outputs": [
    {
     "data": {
      "text/plain": [
       "('Berry Twist Yogurt', '4c438362dcd61b8d7f1c7a56')"
      ]
     },
     "execution_count": 15,
     "metadata": {},
     "output_type": "execute_result"
    }
   ],
   "source": [
    "getID('5800 Northgate Dr', 'Berry Twist')"
   ]
  },
  {
   "cell_type": "code",
   "execution_count": 16,
   "metadata": {},
   "outputs": [
    {
     "data": {
      "text/plain": [
       "7.1"
      ]
     },
     "execution_count": 16,
     "metadata": {},
     "output_type": "execute_result"
    }
   ],
   "source": [
    "getRating('4c438362dcd61b8d7f1c7a56')"
   ]
  },
  {
   "cell_type": "code",
   "execution_count": 17,
   "metadata": {},
   "outputs": [],
   "source": [
    "Foursquare_names = []\n",
    "Foursquare_IDs = []\n",
    "\n",
    "for i in range(0,len(licenses)):\n",
    "    results = getID(licenses.iloc[i][3], licenses.iloc[i][2])\n",
    "    Foursquare_names.append(results[0])\n",
    "    Foursquare_IDs.append(results[1])"
   ]
  },
  {
   "cell_type": "code",
   "execution_count": 18,
   "metadata": {},
   "outputs": [
    {
     "data": {
      "text/plain": [
       "[('A&W Restaurant', '49eb96d5f964a520f8661fe3'),\n",
       " ('Aloh-o Poke, Bento, And Sushi', '5b2ab40e1acf11002c1c2578'),\n",
       " ('Amber Kitchen', '5781bce2498e65d291c854d6'),\n",
       " (\"Amici's East Coast Pizzeria\", '4b455805f964a520f20a26e3'),\n",
       " ('Antiguas Cafe', '5d66e844ca17630008f17913'),\n",
       " (\"Applebee's Grill + Bar\", '4b4a470ff964a520fa8126e3'),\n",
       " ('Arigatou', '4b7239c1f964a520aa742de3'),\n",
       " ('Aroma Café', '4aa41a9cf964a5204f4520e3'),\n",
       " ('', ''),\n",
       " ('Bagel Street Cafe', '4b295375f964a520e99c24e3'),\n",
       " ('Bagel Street Cafe', '50ca1e01498edd8aad881392'),\n",
       " ('Bangkok Thai Express', '4b1ad39ef964a520aaf223e3'),\n",
       " ('Banh Mi & Coffee', '5c463a2cbd4009002c820423'),\n",
       " ('', ''),\n",
       " ('Bay Thai Cuisine', '4a9da1fdf964a520b83820e3'),\n",
       " ('Berry Twist Yogurt', '4c438362dcd61b8d7f1c7a56'),\n",
       " ('Best Burger', '4b5a2cb9f964a52015b228e3'),\n",
       " ('Better Bar', '5b3e913a9ba3e5002cc0260e'),\n",
       " (\"BJ's Restaurant & Brewhouse\", '4af9dc8df964a520d71422e3'),\n",
       " ('Black Bear Diner', '59a670bee96d0c47fb62590d'),\n",
       " (\"Bogie's Too\", '5ca0f784829b0c002c996afc'),\n",
       " ('Bombay Grill', '5b64a42889e490002c7ce792'),\n",
       " ('', ''),\n",
       " ('', ''),\n",
       " ('Cafe Del Soul', '5161d498498ee174ce00b533'),\n",
       " ('Villa Inn', '4f6ce106e4b056aa922cd92f'),\n",
       " ('Calgang', '4acba1adf964a520b4c420e3'),\n",
       " ('', ''),\n",
       " ('Casa Mañana', '4aec8da8f964a5209fc821e3'),\n",
       " (\"Celia's Mexican Restaurant\", '4aa9a522f964a520ad5420e3'),\n",
       " ('Chipotle Mexican Grill', '4b171f4ef964a520aac223e3'),\n",
       " ('Chipotle Mexican Grill', '5338c555498eb425387a2109'),\n",
       " ('Chonmage', '59de80867dc9e17d0b8e94c7'),\n",
       " ('Cold Stone Creamery', '4b4802aaf964a520544626e3'),\n",
       " ('Cornucopia Catering & Cafe', '4b61f704f964a520f12d2ae3'),\n",
       " ('Crepevine', '4a3574aef964a520009d1fe3'),\n",
       " ('Depot Garden Cafe', '4ad0c2abf964a5209ed920e3'),\n",
       " (\"Domino's Pizza\", '4c035160310fc9b675d2c561'),\n",
       " ('Double Rainbow Cafe', '4ad3b3f1f964a520bee520e3'),\n",
       " (\"Celia's Mexican Restaurant\", '4aa9a522f964a520ad5420e3'),\n",
       " ('El Burrito', '56d38c91498e40011c94057c'),\n",
       " ('El Lucerito Restaurant', '50e5f0a1e4b0d1681abc1615'),\n",
       " ('El Palmar Restaurant', '4c1f819fb4e62d7fb0b7df93'),\n",
       " ('El Perol', '5869c3c9ea1c0d23c6fbb262'),\n",
       " ('', ''),\n",
       " ('', ''),\n",
       " ('', ''),\n",
       " ('Extreme Pizza', '4b22df57f964a520374f24e3'),\n",
       " ('Falafel Hut', '4b030c36f964a520384c22e3'),\n",
       " ('Fenix', '5101f97be4b052bb7947ab43'),\n",
       " ('Flat Iron Saloon', '4bf4b1c1ff90c9b6fb9d5528'),\n",
       " ('Foodles', '4cffac96f7b38cfa37b8cac3'),\n",
       " ('', ''),\n",
       " (\"Gaspare's Pizzeria\", '4aee3ae6f964a5201cd321e3'),\n",
       " (\"Gloria Jean's Coffees\", '4b4aa6f3f964a5204a8c26e3'),\n",
       " (\"Gloria Jean's Coffees\", '4b4aa6f3f964a5204a8c26e3'),\n",
       " ('', ''),\n",
       " ('Halal Indian Cuisine', '5ca2e79f06fb60002c659a73'),\n",
       " ('Bagel Street Cafe', '4b295375f964a520e99c24e3'),\n",
       " ('House of Bagels', '4b6c8263f964a520b63f2ce3'),\n",
       " ('', ''),\n",
       " ('IHOP', '4a9ace39f964a520d33220e3'),\n",
       " ('Ikoi Sushi', '57d5bd13498e4af69be7a5c6'),\n",
       " ('Il Davide Cucina Italiana', '4c2d22681683b713d04826ec'),\n",
       " ('Iron Springs Public House', '5a6b838242d8c2036cfaa266'),\n",
       " ('Jack in the Box', '4bafed20f964a5200b2c3ce3'),\n",
       " ('Jamba Juice', '48078e13f964a520074f1fe3'),\n",
       " ('Java Detour', '4a81c032f964a52074f71fe3'),\n",
       " ('', ''),\n",
       " ('Johnny Doughnuts', '51dc7973498e2ab0c3cb7da1'),\n",
       " ('Julie’s Hummus Bar', '5d2a262b2081a20023d106eb'),\n",
       " ('', ''),\n",
       " ('Kamikaze Sushi Bar and Cusine', '4bf734f55ec320a103ac86d3'),\n",
       " ('', ''),\n",
       " ('Taco Bell/KFC', '4c48b9fb9e3e2d7fa29cd347'),\n",
       " ('key tea and kava lounge', '5b7c95f395a722002ca16e01'),\n",
       " ('', ''),\n",
       " ('The Kitchen Table', '5c89c3ae98fbfc002c02d7dd'),\n",
       " ('', ''),\n",
       " ('', ''),\n",
       " ('La Hacienda Taqueria and Restaurant', '4af0c611f964a52014df21e3'),\n",
       " ('', ''),\n",
       " ('', ''),\n",
       " ('Le Comptoir', '571c4523498ed5efcaefd1eb'),\n",
       " ('', ''),\n",
       " ('Little Mandarin', '4ba3c674f964a520f25d38e3'),\n",
       " ('Harbor Deli and Cafe', '4f3269cb19836c91c7d5658b'),\n",
       " ('', ''),\n",
       " ('Los Moles Hecho En Casa', '56cd55decd10ade46b10bcb5'),\n",
       " ('Los Palmares', '4d0018cb7c5637049e2eaef0'),\n",
       " ('Lotus Chaat and Spices', '4dbc97260cb691071ca7b205'),\n",
       " ('Lotus Cuisine of India', '4a64f33ff964a5200bc71fe3'),\n",
       " (\"Lou's Takeaway\", '5d48ebd3735c2d0007fe3d66'),\n",
       " ('', ''),\n",
       " (\"Lundy's Home Cooking\", '4bacf9b6f964a52024203be3'),\n",
       " ('Magnolia Park', '57605472498ebce01385ffda'),\n",
       " ('Marin Car Clinic', '5140c238e4b0631e1570041d'),\n",
       " ('Mauna Loa Hawaiian BBQ', '49c5537cf964a520f4561fe3'),\n",
       " (\"McDonald's\", '4ad17629f964a5207bde20e3'),\n",
       " (\"McDonald's\", '4b8d74b2f964a520c8fc32e3'),\n",
       " ('Mi Casa Cafe', '590e0d650a464d19efa5b69f'),\n",
       " ('Mi Pueblo', '5bb179ded48ec100398dd63e'),\n",
       " (\"Michael's Sourdough Sandwiches\", '4b4248faf964a520b6d025e3'),\n",
       " ('Miracle Mile Cafe', '4de13914ae605835c467a29d'),\n",
       " ('', ''),\n",
       " ('', ''),\n",
       " ('Moonlight Deli', '4bb7a7b053649c749a0c46fb'),\n",
       " (\"Mountain Mike's Pizza\", '4fa1e486e4b099a8dd495aa2'),\n",
       " (\"Mr. Pickle's Sandwich Shop\", '4e2e64ad18a8ea95b09b2d1d'),\n",
       " (\"Mr. Pickle's Sandwich Shop\", '4e2e64ad18a8ea95b09b2d1d'),\n",
       " ('Mulberry Street Pizzeria', '4ab3cf88f964a520956e20e3'),\n",
       " ('My Thai', '4b1dc825f964a5203a1524e3'),\n",
       " ('Naughty Dawg', '4dee74132271e7b44636a63d'),\n",
       " ('', ''),\n",
       " ('', ''),\n",
       " (\"Oscar's Tacos\", '4b5d1a02f964a520b35229e3'),\n",
       " ('Marin County DUI Program', '4d82b11c7e8ef04d1937e8bd'),\n",
       " ('Panchitos', '4b79df59f964a5207a172fe3'),\n",
       " ('Panda Express', '4fee02b3e4b0b6774efb0830'),\n",
       " ('Panera Bread', '4b479eacf964a520b23726e3'),\n",
       " (\"Peet's Coffee & Tea\", '4bb270874019a59343d536b8'),\n",
       " (\"Peet's Coffee & Tea\", '4ac8fdcbf964a520cebd20e3'),\n",
       " (\"Perry's Deli\", '4c5f0dbb6ebe2d7fc545d72e'),\n",
       " ('', ''),\n",
       " (\"Phyllis' Giant Burgers - San Rafael\", '4aecfbdaf964a5208ccc21e3'),\n",
       " ('', ''),\n",
       " ('Picante', '4b4249f5f964a520cad025e3'),\n",
       " ('Pier 15', '4aede831f964a5201bd021e3'),\n",
       " (\"Ping's Chinese Cuisine\", '5155fab0e4b0896015d77d75'),\n",
       " ('', ''),\n",
       " ('Pink Owl Coffee', '5e3ede079a94b70008ded8e0'),\n",
       " ('Planet Juice', '4bc0b07cabf49521e3a4bf93'),\n",
       " ('Pokeritto', '5be49e6a3fcee8002cfc7bbb'),\n",
       " ('Puentez Taqueria', '4a8f42e3f964a520951420e3'),\n",
       " ('Quickly', '55970c21498ea6e884d26053'),\n",
       " ('Red Boy Pizza', '4ba41f82f964a520dd8338e3'),\n",
       " ('Redwood Cafe', '4ab146e7f964a520db6820e3'),\n",
       " ('Redwood Tours', '5e4ee40452be48000851cff9'),\n",
       " ('Revel & Roost', '5d979d1ecd9cbf0008b99bcc'),\n",
       " ('Roadside BBQ', '4bbcd7aba0a0c9b667df1a0f'),\n",
       " ('Rocket Roll', '5647b58d498e8bfc0d642a6d'),\n",
       " ('Round Table Pizza', '573f99da498e897bc4386d04'),\n",
       " ('Round Table Pizza', '46bfa506f964a520e7491fe3'),\n",
       " ('', ''),\n",
       " ('Royal Thai Restaurant', '4b46aa5df964a520872626e3'),\n",
       " ('Sabor A Mexico', '5f49c4a0b511c83bbf715ddc'),\n",
       " ('Saigon Village Restaurant', '565c1125498e87528bdfc71c'),\n",
       " ('Saigon Village Restaurant', '565c1125498e87528bdfc71c'),\n",
       " ('Sakura Sushi-San Rafael', '57d8f102498e619a549a9f46'),\n",
       " (\"San Rafael Joe's\", '4b21ccf5f964a5208d4124e3'),\n",
       " ('Sbarro', '4ac65327f964a520bbb320e3'),\n",
       " ('ShareTea', '587ae62c13bb770a91056afa'),\n",
       " ('Shiro Kuma', '59c72d22efa82a170736c574'),\n",
       " ('Shogun Fresh Japanese Grill', '4c26583b5c5ca593db0146fe'),\n",
       " (\"Silberman's Ice Cream\", '4b8346f0f964a520580031e3'),\n",
       " ('Smith Ranch Homes Pool', '4dc885c61838e695fbd4bc3e'),\n",
       " ('Smokys Deli', '4d13b2afe6e26ea84dcdf74f'),\n",
       " ('Sol Food Puerto Rican Cuisine', '49cb3851f964a52001591fe3'),\n",
       " ('Sol Food Puerto Rican Cuisine', '49cb3851f964a52001591fe3'),\n",
       " ('Sonoma Taco Shop', '4ad12154f964a520ebdc20e3'),\n",
       " ('Sonora Market & Taqueria', '4b845caef964a520d73031e3'),\n",
       " ('Starbucks', '4b3bc40df964a520a87a25e3'),\n",
       " ('Starbucks', '487f12f5f964a52026511fe3'),\n",
       " (\"Peet's Coffee & Tea\", '4bb270874019a59343d536b8'),\n",
       " ('Starbucks', '4ad2530cf964a520ebe020e3'),\n",
       " ('State Room Brewery', '569da109498ed9bc4418197c'),\n",
       " ('Stefano’s Pizza', '5e125c04b5b5ad000872310c'),\n",
       " (\"Stone's Jamaican Root And Juice\", '5b25869c78782c00392d5103'),\n",
       " ('Subway', '4b956adcf964a5207fa134e3'),\n",
       " ('Subway', '536a8830498ef0dc2f0b0daf'),\n",
       " ('Subway', '4c06ffe32e80a593160e75f9'),\n",
       " ('Subway', '4b956adcf964a5207fa134e3'),\n",
       " ('Sunrise Donuts', '4c5234307f6e20a1e39a53eb'),\n",
       " ('Sushi To Dai For', '4b0deb06f964a5209b5223e3'),\n",
       " ('Taj of Marin', '4c6f306afa49a1cdc16ba2e3'),\n",
       " ('Tam Commons', '5cd8b135e96d0c002c1f592c'),\n",
       " ('Taqueria Bahia', '4ade6282f964a5207e7521e3'),\n",
       " ('Taqueria Cancun', '4b5d1cbdf964a5202e5329e3'),\n",
       " ('Taqueria Mi Familia', '4b816daaf964a52073a530e3'),\n",
       " ('Taqueria San Jose', '4bec69acf909ef3b1609a9c6'),\n",
       " ('', ''),\n",
       " ('Taqueria El Farolito', '4be22d71d27a20a1de298f5b'),\n",
       " ('', ''),\n",
       " ('Tender Tenders', '5d3919abb3cabc0008659492'),\n",
       " ('Tomoe Japanese Restaurant', '4f322aa719836c91c7bcb9bf'),\n",
       " ('Terrapin Crossroads', '4f5831631e17278641a1c59c'),\n",
       " ('', ''),\n",
       " ('Thai Smile', '4b635ddcf964a520dc742ae3'),\n",
       " (\"Theresa & Johnny's Comfort Food\", '4a995be6f964a520ef2d20e3'),\n",
       " (\"Tommy's Asian Bistro and Grill\", '506a4200e4b0b9ee572086cb'),\n",
       " ('Uchiwa Ramen', '540128a0498e2648ece3aff0'),\n",
       " (\"Uncle Wing's Restaurant\", '4c097ac9009a0f4748d9e7bf'),\n",
       " ('Union Cafe', '4f44376319836ed00192ee9c'),\n",
       " ('', ''),\n",
       " ('Urban Remedy', '5151e93c72da4c773b7a5bf1'),\n",
       " ('', ''),\n",
       " ('Villayork Pizza and Grill', '4f322f5219836c91c7be7ba8'),\n",
       " ('Vin Antico', '4aea4cecf964a520d4ba21e3'),\n",
       " ('Vn Noodle & Grill', '5830c9cb7ff1e43c190248d6'),\n",
       " ('West Brooklyn Pizza', '4bcd240cfb84c9b6dabc213e'),\n",
       " ('', ''),\n",
       " ('Whipper Snapper Restaurant and Sangria Bar', '4acce70ef964a520f7c920e3'),\n",
       " ('Woking', '59b841789ec3993c7df8787a'),\n",
       " ('Yet Wah Restaurant', '4aed0823f964a520d5cc21e3'),\n",
       " ('Yu Shang', '4bdba53563c5c9b65a292968'),\n",
       " ('Yuzu Ramen and Taproom', '5a1b8e36d1a4026580589a5d')]"
      ]
     },
     "execution_count": 18,
     "metadata": {},
     "output_type": "execute_result"
    }
   ],
   "source": [
    "list(zip(Foursquare_names, Foursquare_IDs))"
   ]
  },
  {
   "cell_type": "code",
   "execution_count": 19,
   "metadata": {},
   "outputs": [
    {
     "data": {
      "text/plain": [
       "<bound method NDFrame.head of     Business status  Account #                         DBA  \\\n",
       "0            Active      10146            A & W Restaurant   \n",
       "1            Active      58190                      Aloh-O   \n",
       "2            Active      56585               Amber Kitchen   \n",
       "3            Active      28047  Amicis East Coast Pizzeria   \n",
       "4            Active      56835    Antiguas Cafe Restaurant   \n",
       "..              ...        ...                         ...   \n",
       "201          Active      47341             Whipper Snapper   \n",
       "202          Active      57558                      Woking   \n",
       "203          Active      33766                     Yet Wah   \n",
       "204          Active      12580   Yu Shang Mandarin Cuisine   \n",
       "205          Active      57722                  Yuzu Ramen   \n",
       "\n",
       "              Bus Address       Ownership type       Geo  Start date  \\\n",
       "0        3741 REDWOOD HWY          Partnership        TL   5/16/1978   \n",
       "1       276 NORTHGATE DR           Corporation        TL   6/18/2018   \n",
       "2                810 B ST          Corporation  Downtown    7/1/2016   \n",
       "3             1242 4TH ST          Corporation  Downtown  12/10/1995   \n",
       "4              703 3RD ST          Corporation  Downtown   11/1/2016   \n",
       "..                    ...                  ...       ...         ...   \n",
       "201           1613 4TH ST     Ltd Liability Co  Downtown   11/1/2008   \n",
       "202  418 LAS GALLINAS AVE     Ltd Liability Co        TL    9/6/2017   \n",
       "203      1236-1238 4TH ST     Ltd Liability Co  Downtown    1/1/2001   \n",
       "204       180 BELLAM BLVD  Sole Proprietorship     Canal    2/2/1979   \n",
       "205            908 4TH ST          Corporation  Downtown  11/25/2017   \n",
       "\n",
       "    Close date  Years Tags Expiration date Downtown             Foursquare ID  \n",
       "0          NaN     41    N      12/31/2020        N  49eb96d5f964a520f8661fe3  \n",
       "1          NaN      1    N      12/31/2020        N  5b2ab40e1acf11002c1c2578  \n",
       "2          NaN      3    N      12/31/2019        Y  5781bce2498e65d291c854d6  \n",
       "3          NaN     24    N      12/31/2020        Y  4b455805f964a520f20a26e3  \n",
       "4          NaN      3    N      12/31/2020        Y  5d66e844ca17630008f17913  \n",
       "..         ...    ...  ...             ...      ...                       ...  \n",
       "201        NaN     11    N      12/31/2020        Y  4acce70ef964a520f7c920e3  \n",
       "202        NaN      2    N      12/31/2020        N  59b841789ec3993c7df8787a  \n",
       "203        NaN     18    N      12/31/2020        Y  4aed0823f964a520d5cc21e3  \n",
       "204        NaN     40    N      12/31/2020        N  4bdba53563c5c9b65a292968  \n",
       "205        NaN      2    N      12/31/2020        Y  5a1b8e36d1a4026580589a5d  \n",
       "\n",
       "[206 rows x 13 columns]>"
      ]
     },
     "execution_count": 19,
     "metadata": {},
     "output_type": "execute_result"
    }
   ],
   "source": [
    "licenses['Foursquare ID'] = Foursquare_IDs\n",
    "licenses.head"
   ]
  },
  {
   "cell_type": "code",
   "execution_count": 20,
   "metadata": {},
   "outputs": [],
   "source": [
    "licenses.drop(licenses[licenses['Foursquare ID'] == ''].index, inplace = True) \n",
    "licenses.reset_index(drop = True, inplace = True)"
   ]
  },
  {
   "cell_type": "code",
   "execution_count": 21,
   "metadata": {},
   "outputs": [
    {
     "data": {
      "text/plain": [
       "<bound method NDFrame.head of     Business status  Account #                         DBA  \\\n",
       "0            Active      10146            A & W Restaurant   \n",
       "1            Active      58190                      Aloh-O   \n",
       "2            Active      56585               Amber Kitchen   \n",
       "3            Active      28047  Amicis East Coast Pizzeria   \n",
       "4            Active      56835    Antiguas Cafe Restaurant   \n",
       "..              ...        ...                         ...   \n",
       "165          Active      47341             Whipper Snapper   \n",
       "166          Active      57558                      Woking   \n",
       "167          Active      33766                     Yet Wah   \n",
       "168          Active      12580   Yu Shang Mandarin Cuisine   \n",
       "169          Active      57722                  Yuzu Ramen   \n",
       "\n",
       "              Bus Address       Ownership type       Geo  Start date  \\\n",
       "0        3741 REDWOOD HWY          Partnership        TL   5/16/1978   \n",
       "1       276 NORTHGATE DR           Corporation        TL   6/18/2018   \n",
       "2                810 B ST          Corporation  Downtown    7/1/2016   \n",
       "3             1242 4TH ST          Corporation  Downtown  12/10/1995   \n",
       "4              703 3RD ST          Corporation  Downtown   11/1/2016   \n",
       "..                    ...                  ...       ...         ...   \n",
       "165           1613 4TH ST     Ltd Liability Co  Downtown   11/1/2008   \n",
       "166  418 LAS GALLINAS AVE     Ltd Liability Co        TL    9/6/2017   \n",
       "167      1236-1238 4TH ST     Ltd Liability Co  Downtown    1/1/2001   \n",
       "168       180 BELLAM BLVD  Sole Proprietorship     Canal    2/2/1979   \n",
       "169            908 4TH ST          Corporation  Downtown  11/25/2017   \n",
       "\n",
       "    Close date  Years Tags Expiration date Downtown             Foursquare ID  \n",
       "0          NaN     41    N      12/31/2020        N  49eb96d5f964a520f8661fe3  \n",
       "1          NaN      1    N      12/31/2020        N  5b2ab40e1acf11002c1c2578  \n",
       "2          NaN      3    N      12/31/2019        Y  5781bce2498e65d291c854d6  \n",
       "3          NaN     24    N      12/31/2020        Y  4b455805f964a520f20a26e3  \n",
       "4          NaN      3    N      12/31/2020        Y  5d66e844ca17630008f17913  \n",
       "..         ...    ...  ...             ...      ...                       ...  \n",
       "165        NaN     11    N      12/31/2020        Y  4acce70ef964a520f7c920e3  \n",
       "166        NaN      2    N      12/31/2020        N  59b841789ec3993c7df8787a  \n",
       "167        NaN     18    N      12/31/2020        Y  4aed0823f964a520d5cc21e3  \n",
       "168        NaN     40    N      12/31/2020        N  4bdba53563c5c9b65a292968  \n",
       "169        NaN      2    N      12/31/2020        Y  5a1b8e36d1a4026580589a5d  \n",
       "\n",
       "[170 rows x 13 columns]>"
      ]
     },
     "execution_count": 21,
     "metadata": {},
     "output_type": "execute_result"
    }
   ],
   "source": [
    "licenses.head"
   ]
  },
  {
   "cell_type": "code",
   "execution_count": 22,
   "metadata": {},
   "outputs": [
    {
     "data": {
      "text/plain": [
       "6.8"
      ]
     },
     "execution_count": 22,
     "metadata": {},
     "output_type": "execute_result"
    }
   ],
   "source": [
    "getRating(licenses.iloc[0][12])"
   ]
  },
  {
   "cell_type": "code",
   "execution_count": 23,
   "metadata": {},
   "outputs": [],
   "source": [
    "scores = []\n",
    "\n",
    "for i in range(0,len(licenses)):\n",
    "    result = getRating(licenses.iloc[i][12])\n",
    "    scores.append(result)"
   ]
  },
  {
   "cell_type": "code",
   "execution_count": 24,
   "metadata": {},
   "outputs": [
    {
     "data": {
      "text/plain": [
       "[('A & W Restaurant', 6.8),\n",
       " ('Aloh-O', ''),\n",
       " ('Amber Kitchen', ''),\n",
       " ('Amicis East Coast Pizzeria', 7.7),\n",
       " ('Antiguas Cafe Restaurant', ''),\n",
       " ('Applebees Grill + Bar', 6.6),\n",
       " ('Arigatou', ''),\n",
       " ('Aroma Cafe', 6.7),\n",
       " ('Bagel Street Cafe', 7.4),\n",
       " ('Bagel Street Cafe', 6.2),\n",
       " ('Bangkok Thai Express, Inc.', 6.1),\n",
       " ('Banh Mi & Coffee', ''),\n",
       " ('Bay Thai Cuisine', 7.5),\n",
       " ('Berry Twist', 7.1),\n",
       " ('Best Burger', 7.2),\n",
       " ('Better Bar', ''),\n",
       " (\"BJ's Restaurant & Brewhouse\", 7.0),\n",
       " ('Black Bear Diner', 7.6),\n",
       " (\"Bogie's Too\", ''),\n",
       " ('Bombay Grill', ''),\n",
       " ('Cafe Del Soul', 8.7),\n",
       " ('Caffe Villa At Villa Inn', ''),\n",
       " ('Calgang Thai', 6.8),\n",
       " ('Casa Manana Restaurant', 8.6),\n",
       " (\"Celia's Mexican Restaurant\", 7.3),\n",
       " ('Chipotle Mexican Grill ', 6.9),\n",
       " ('Chipotle Mexican Grill ', 8.0),\n",
       " ('Chonmage', ''),\n",
       " ('Cold Stone Creamery', 8.0),\n",
       " ('Cornucopia Cafe & Catering', ''),\n",
       " ('Crepevine', 6.5),\n",
       " ('Depot Garden Cafe', 7.3),\n",
       " (\"Domino's Pizza\", 6.5),\n",
       " ('Double Rainbow Cafe', 8.0),\n",
       " (\"Eduardo's Restaurant\", 7.3),\n",
       " ('El Burrito', ''),\n",
       " ('El Lucerito Restaurant', 7.6),\n",
       " ('El Palmar', 6.3),\n",
       " ('El Perol Restaurant', ''),\n",
       " ('Extreme Pizza', 7.9),\n",
       " ('Falafel Hut', 7.1),\n",
       " ('FENIX', 7.0),\n",
       " ('Flatiron, The', 7.4),\n",
       " ('Foodles', 7.5),\n",
       " (\"Gaspare's Pizzeria Ristorante Bar\", 7.9),\n",
       " (\"Gloria Jean's Coffee Bean\", 5.8),\n",
       " (\"Gloria Jean's Coffees\", 5.8),\n",
       " ('Halal Indian Cuisine', ''),\n",
       " ('Heartbeat Cafe', 7.4),\n",
       " ('House Of Bagels', 7.1),\n",
       " ('IHOP', 6.3),\n",
       " ('Ikoi Sushi', 7.8),\n",
       " ('Il Davide', 8.5),\n",
       " ('Iron Springs Public House', 8.3),\n",
       " ('Jack In The Box', 6.1),\n",
       " ('Jamba Juice', 6.6),\n",
       " ('Java Detour', 5.9),\n",
       " ('Johnny Doughnuts', 8.4),\n",
       " (\"Julie's Hummus Bar\", ''),\n",
       " ('Kamikaze Sushi Bar', 7.2),\n",
       " ('Kentucky Fried Chicken-Taco Bell 266', 5.5),\n",
       " ('Key Tea', ''),\n",
       " ('Kitchen Table, The', ''),\n",
       " ('La Hacienda Taqueria Restaurante', 7.6),\n",
       " ('Le Comptoir', 8.0),\n",
       " ('Little Mandarin Restaurant', ''),\n",
       " (\"LJ's Deli\", ''),\n",
       " ('Los Moles Hecho En Casa, Inc.', ''),\n",
       " ('Los Palillos', ''),\n",
       " ('Lotus Chaat & Spices', 7.0),\n",
       " ('Lotus Cuisine Of India', 8.7),\n",
       " (\"Lou's Takeaway\", 7.7),\n",
       " (\"Lundy's Home Cooking\", 7.9),\n",
       " ('Magnolia Park Kitchen', 8.3),\n",
       " ('Marin Taqueria', ''),\n",
       " ('Mauna Loa Hawaiian BBQ', 7.6),\n",
       " (\"McDonald's 11597\", 5.5),\n",
       " (\"McDonald's 1462\", 5.5),\n",
       " ('Mi Casa Cafe', ''),\n",
       " ('Mi Pueblo Marin', ''),\n",
       " (\"Michael's Sourdough Sandwiches\", 8.7),\n",
       " ('Miracle Mile Cafe', 8.1),\n",
       " ('Moonlight Delicatessen', ''),\n",
       " (\"Mountain Mike's Pizza\", 6.7),\n",
       " (\"Mr. Pickle's Sandwich Shop\", 7.2),\n",
       " (\"Mr. Pickle's Sandwich Shop\", 7.2),\n",
       " ('Mulberry Street Pizzeria', 7.6),\n",
       " ('My Thai Restaurant', 8.5),\n",
       " ('Naughty Dawg, The', ''),\n",
       " ('Oscar Taco', ''),\n",
       " ('P & C Specialty', ''),\n",
       " ('Panchitos', 7.7),\n",
       " ('Panda Express ', 6.6),\n",
       " ('Panera Bread', 5.9),\n",
       " (\"Peet's Coffee & Tea\", 7.6),\n",
       " (\"Peet's Coffee & Tea\", 7.5),\n",
       " (\"Perry's Delicatessen\", ''),\n",
       " (\"Phyllis' Giant Burger\", 6.5),\n",
       " ('Picante', 8.2),\n",
       " ('Pier 15', 7.3),\n",
       " (\"Ping's Chinese Restaurant\", 7.2),\n",
       " ('Pink Owl Coffee', ''),\n",
       " ('Planet Juice', 7.1),\n",
       " ('Pokeritto', ''),\n",
       " ('Puentez Taqueria', 7.7),\n",
       " ('Quickly', ''),\n",
       " ('Red Boy Pizza', ''),\n",
       " ('Redwood Cafe', 7.4),\n",
       " ('Redwood Market & Deli', ''),\n",
       " ('Revel & Roost', ''),\n",
       " ('Roadside BBQ', 7.6),\n",
       " ('Rocket Roll', ''),\n",
       " ('Round Table Pizza', 6.7),\n",
       " ('Round Table Pizza', 6.5),\n",
       " ('Royal Thai Restaurant', 7.2),\n",
       " ('Sabor A Mexico', ''),\n",
       " ('Saigon Village Restaurant', ''),\n",
       " ('Saigon Village Restaurant', ''),\n",
       " ('Sakura Sushi', ''),\n",
       " (\"San Rafael Joe's Restaurant\", 7.1),\n",
       " ('Sbarro', 6.2),\n",
       " ('Share Tea', ''),\n",
       " ('Shiro Kuma Sushi', ''),\n",
       " ('Shogun Fresh Japanese Grill', ''),\n",
       " (\"Silbermann's Ice Cream, Inc.\", 8.5),\n",
       " ('Smith Ranch Road Homes Homeowners', ''),\n",
       " (\"Smoky's Deli\", ''),\n",
       " ('Sol Food', 9.4),\n",
       " ('Sol Food Puerto Rican Cuisine', 9.4),\n",
       " ('Sonoma Taco Shop', 7.6),\n",
       " ('Sonora Taqueria', ''),\n",
       " ('Starbucks Coffee ', 5.7),\n",
       " ('Starbucks Coffee ', 5.7),\n",
       " ('Starbucks Coffee', 7.6),\n",
       " ('Starbucks Coffee', 5.5),\n",
       " ('State Room,The', 7.0),\n",
       " (\"Stefano's Pizza\", ''),\n",
       " ('Stones Jamaican Roots & Juice', ''),\n",
       " ('Subway', 6.5),\n",
       " ('Subway', 6.6),\n",
       " ('Subway Sandwiches', 6.6),\n",
       " ('Subway Sandwiches', 6.5),\n",
       " ('Sunrise Donuts', ''),\n",
       " ('Sushi To Dai For', 6.5),\n",
       " ('Taj Of Marin North & South Indian Cuisine', 6.8),\n",
       " ('Tamalpais Commons', ''),\n",
       " ('Taqueria Bahia', 7.1),\n",
       " ('Taqueria Cancun', 8.4),\n",
       " ('Taqueria Mi Familia', 8.2),\n",
       " ('Taqueria San Jose, Inc.', ''),\n",
       " ('Taquerias El Farolito', 6.3),\n",
       " ('Tender Tenders', ''),\n",
       " ('Tenkyu Japanese Restaurant', ''),\n",
       " ('Terrapin Crossroads', 8.4),\n",
       " ('Thai Smile', 8.1),\n",
       " (\"Theresa & Johnny's Comfort Food\", 7.9),\n",
       " ('Tommy Bistro', 7.7),\n",
       " ('Uchiwa Ramen', 6.4),\n",
       " ('Uncle Wing Restaurant', 7.8),\n",
       " ('Union Cafe', ''),\n",
       " ('Urban Remedy', 7.4),\n",
       " ('Villayork Pizza & Grill Corp', ''),\n",
       " ('Vin Antico', 6.9),\n",
       " ('VN Noodle & Grill', ''),\n",
       " ('West Brooklyn Pizza', 6.1),\n",
       " ('Whipper Snapper', 7.4),\n",
       " ('Woking', ''),\n",
       " ('Yet Wah', 6.6),\n",
       " ('Yu Shang Mandarin Cuisine', 7.1),\n",
       " ('Yuzu Ramen', 7.9)]"
      ]
     },
     "execution_count": 24,
     "metadata": {},
     "output_type": "execute_result"
    }
   ],
   "source": [
    "list(zip(licenses['DBA'], scores))"
   ]
  },
  {
   "cell_type": "code",
   "execution_count": 25,
   "metadata": {},
   "outputs": [
    {
     "data": {
      "text/plain": [
       "<bound method NDFrame.head of     Business status  Account #                         DBA  \\\n",
       "0            Active      10146            A & W Restaurant   \n",
       "1            Active      58190                      Aloh-O   \n",
       "2            Active      56585               Amber Kitchen   \n",
       "3            Active      28047  Amicis East Coast Pizzeria   \n",
       "4            Active      56835    Antiguas Cafe Restaurant   \n",
       "..              ...        ...                         ...   \n",
       "165          Active      47341             Whipper Snapper   \n",
       "166          Active      57558                      Woking   \n",
       "167          Active      33766                     Yet Wah   \n",
       "168          Active      12580   Yu Shang Mandarin Cuisine   \n",
       "169          Active      57722                  Yuzu Ramen   \n",
       "\n",
       "              Bus Address       Ownership type       Geo  Start date  \\\n",
       "0        3741 REDWOOD HWY          Partnership        TL   5/16/1978   \n",
       "1       276 NORTHGATE DR           Corporation        TL   6/18/2018   \n",
       "2                810 B ST          Corporation  Downtown    7/1/2016   \n",
       "3             1242 4TH ST          Corporation  Downtown  12/10/1995   \n",
       "4              703 3RD ST          Corporation  Downtown   11/1/2016   \n",
       "..                    ...                  ...       ...         ...   \n",
       "165           1613 4TH ST     Ltd Liability Co  Downtown   11/1/2008   \n",
       "166  418 LAS GALLINAS AVE     Ltd Liability Co        TL    9/6/2017   \n",
       "167      1236-1238 4TH ST     Ltd Liability Co  Downtown    1/1/2001   \n",
       "168       180 BELLAM BLVD  Sole Proprietorship     Canal    2/2/1979   \n",
       "169            908 4TH ST          Corporation  Downtown  11/25/2017   \n",
       "\n",
       "    Close date  Years Tags Expiration date Downtown             Foursquare ID  \\\n",
       "0          NaN     41    N      12/31/2020        N  49eb96d5f964a520f8661fe3   \n",
       "1          NaN      1    N      12/31/2020        N  5b2ab40e1acf11002c1c2578   \n",
       "2          NaN      3    N      12/31/2019        Y  5781bce2498e65d291c854d6   \n",
       "3          NaN     24    N      12/31/2020        Y  4b455805f964a520f20a26e3   \n",
       "4          NaN      3    N      12/31/2020        Y  5d66e844ca17630008f17913   \n",
       "..         ...    ...  ...             ...      ...                       ...   \n",
       "165        NaN     11    N      12/31/2020        Y  4acce70ef964a520f7c920e3   \n",
       "166        NaN      2    N      12/31/2020        N  59b841789ec3993c7df8787a   \n",
       "167        NaN     18    N      12/31/2020        Y  4aed0823f964a520d5cc21e3   \n",
       "168        NaN     40    N      12/31/2020        N  4bdba53563c5c9b65a292968   \n",
       "169        NaN      2    N      12/31/2020        Y  5a1b8e36d1a4026580589a5d   \n",
       "\n",
       "    Rating  \n",
       "0      6.8  \n",
       "1           \n",
       "2           \n",
       "3      7.7  \n",
       "4           \n",
       "..     ...  \n",
       "165    7.4  \n",
       "166         \n",
       "167    6.6  \n",
       "168    7.1  \n",
       "169    7.9  \n",
       "\n",
       "[170 rows x 14 columns]>"
      ]
     },
     "execution_count": 25,
     "metadata": {},
     "output_type": "execute_result"
    }
   ],
   "source": [
    "licenses['Rating'] = scores\n",
    "licenses.head"
   ]
  },
  {
   "cell_type": "code",
   "execution_count": 26,
   "metadata": {},
   "outputs": [],
   "source": [
    "licenses.drop(licenses[licenses['Rating'] == ''].index, inplace = True) \n",
    "licenses.reset_index(drop = True, inplace = True)"
   ]
  },
  {
   "cell_type": "code",
   "execution_count": 27,
   "metadata": {},
   "outputs": [
    {
     "data": {
      "text/plain": [
       "<bound method NDFrame.head of     Business status  Account #                         DBA        Bus Address  \\\n",
       "0            Active      10146            A & W Restaurant   3741 REDWOOD HWY   \n",
       "1            Active      28047  Amicis East Coast Pizzeria        1242 4TH ST   \n",
       "2            Active      33898       Applebees Grill + Bar  5800 NORTHGATE DR   \n",
       "3            Active      34725                  Aroma Cafe        1122 4TH ST   \n",
       "4            Active      35476           Bagel Street Cafe  208 NORTHGATE DR    \n",
       "..              ...        ...                         ...                ...   \n",
       "108          Active      58176         West Brooklyn Pizza    900 ANDERSEN DR   \n",
       "109          Active      47341             Whipper Snapper        1613 4TH ST   \n",
       "110          Active      33766                     Yet Wah   1236-1238 4TH ST   \n",
       "111          Active      12580   Yu Shang Mandarin Cuisine    180 BELLAM BLVD   \n",
       "112          Active      57722                  Yuzu Ramen         908 4TH ST   \n",
       "\n",
       "          Ownership type       Geo  Start date Close date  Years Tags  \\\n",
       "0            Partnership        TL   5/16/1978        NaN     41    N   \n",
       "1            Corporation  Downtown  12/10/1995        NaN     24    N   \n",
       "2       Ltd Liability Co        TL   2/27/2001        NaN     18    N   \n",
       "3            Corporation  Downtown    2/1/2002        NaN     17    N   \n",
       "4    Sole Proprietorship        TL    6/1/2001        NaN     18    N   \n",
       "..                   ...       ...         ...        ...    ...  ...   \n",
       "108  Sole Proprietorship     Canal    8/8/2017        NaN      2    N   \n",
       "109     Ltd Liability Co  Downtown   11/1/2008        NaN     11    N   \n",
       "110     Ltd Liability Co  Downtown    1/1/2001        NaN     18    N   \n",
       "111  Sole Proprietorship     Canal    2/2/1979        NaN     40    N   \n",
       "112          Corporation  Downtown  11/25/2017        NaN      2    N   \n",
       "\n",
       "    Expiration date Downtown             Foursquare ID Rating  \n",
       "0        12/31/2020        N  49eb96d5f964a520f8661fe3    6.8  \n",
       "1        12/31/2020        Y  4b455805f964a520f20a26e3    7.7  \n",
       "2        12/31/2020        N  4b4a470ff964a520fa8126e3    6.6  \n",
       "3        12/31/2020        Y  4aa41a9cf964a5204f4520e3    6.7  \n",
       "4        12/31/2020        N  4b295375f964a520e99c24e3    7.4  \n",
       "..              ...      ...                       ...    ...  \n",
       "108      12/31/2020        N  4bcd240cfb84c9b6dabc213e    6.1  \n",
       "109      12/31/2020        Y  4acce70ef964a520f7c920e3    7.4  \n",
       "110      12/31/2020        Y  4aed0823f964a520d5cc21e3    6.6  \n",
       "111      12/31/2020        N  4bdba53563c5c9b65a292968    7.1  \n",
       "112      12/31/2020        Y  5a1b8e36d1a4026580589a5d    7.9  \n",
       "\n",
       "[113 rows x 14 columns]>"
      ]
     },
     "execution_count": 27,
     "metadata": {},
     "output_type": "execute_result"
    }
   ],
   "source": [
    "licenses.head"
   ]
  },
  {
   "cell_type": "code",
   "execution_count": 28,
   "metadata": {},
   "outputs": [],
   "source": [
    "label_encoder = preprocessing.LabelEncoder()"
   ]
  },
  {
   "cell_type": "code",
   "execution_count": 29,
   "metadata": {},
   "outputs": [],
   "source": [
    "licenses['Business status'] = label_encoder.fit_transform(licenses['Business status'])\n",
    "licenses['Ownership type'] = label_encoder.fit_transform(licenses['Ownership type'])\n",
    "licenses['Tags'] = label_encoder.fit_transform(licenses['Tags'])\n",
    "licenses['Downtown'] = label_encoder.fit_transform(licenses['Downtown'])"
   ]
  },
  {
   "cell_type": "code",
   "execution_count": 30,
   "metadata": {},
   "outputs": [],
   "source": [
    "y = licenses['Business status'].values.astype(np.int)"
   ]
  },
  {
   "cell_type": "code",
   "execution_count": 31,
   "metadata": {},
   "outputs": [
    {
     "data": {
      "text/plain": [
       "<bound method NDFrame.head of      Ownership type  Years  Tags  Downtown Rating\n",
       "0                 2     41     0         0    6.8\n",
       "1                 0     24     0         1    7.7\n",
       "2                 1     18     0         0    6.6\n",
       "3                 0     17     0         1    6.7\n",
       "4                 3     18     0         0    7.4\n",
       "..              ...    ...   ...       ...    ...\n",
       "108               3      2     0         0    6.1\n",
       "109               1     11     0         1    7.4\n",
       "110               1     18     0         1    6.6\n",
       "111               3     40     0         0    7.1\n",
       "112               0      2     0         1    7.9\n",
       "\n",
       "[113 rows x 5 columns]>"
      ]
     },
     "execution_count": 31,
     "metadata": {},
     "output_type": "execute_result"
    }
   ],
   "source": [
    "licenses.drop(['Business status', 'Account #', 'DBA', 'Bus Address', 'Geo', 'Start date', 'Close date', 'Expiration date', 'Foursquare ID'], axis = 1, inplace = True)\n",
    "licenses.head"
   ]
  },
  {
   "cell_type": "code",
   "execution_count": 32,
   "metadata": {},
   "outputs": [],
   "source": [
    "X = licenses.values.astype(np.float)"
   ]
  },
  {
   "cell_type": "code",
   "execution_count": 33,
   "metadata": {},
   "outputs": [
    {
     "name": "stdout",
     "output_type": "stream",
     "text": [
      "<class 'numpy.ndarray'>\n",
      "(113, 5)\n",
      "[ 2.  41.   0.   0.   6.8]\n",
      "(113,)\n",
      "0\n"
     ]
    }
   ],
   "source": [
    "print(type(X))\n",
    "print(X.shape)\n",
    "print(X[0])\n",
    "print(y.shape)\n",
    "print(y[0])"
   ]
  },
  {
   "cell_type": "code",
   "execution_count": 34,
   "metadata": {},
   "outputs": [
    {
     "data": {
      "text/plain": [
       "array([0, 0, 0, 0, 0, 0, 0, 0, 0, 0, 0, 0, 0, 0, 0, 0, 0, 0, 0, 0, 0, 0,\n",
       "       0, 0, 0, 0, 0, 0, 0, 0, 0, 0, 1, 0, 0, 1, 0, 0, 0, 0, 0, 0, 0, 0,\n",
       "       0, 0, 0, 0, 1, 0, 0, 0, 0, 0, 0, 0, 0, 0, 0, 1, 0, 0, 0, 0, 0, 0,\n",
       "       0, 0, 0, 0, 0, 0, 0, 0, 0, 0, 0, 0, 0, 0, 0, 0, 0, 0, 0, 0, 1, 0,\n",
       "       0, 0, 0, 0, 0, 0, 0, 0, 0, 0, 0, 0, 0, 0, 0, 1, 0, 0, 0, 0, 0, 0,\n",
       "       0, 0, 0])"
      ]
     },
     "execution_count": 34,
     "metadata": {},
     "output_type": "execute_result"
    }
   ],
   "source": [
    "y"
   ]
  },
  {
   "cell_type": "code",
   "execution_count": 35,
   "metadata": {},
   "outputs": [
    {
     "name": "stdout",
     "output_type": "stream",
     "text": [
      "There are 6 instances of closed businesses and 107 instances of surviving businesses.\n",
      "Percentage of businesses that closed: 5.31\n"
     ]
    }
   ],
   "source": [
    "print('There are {} instances of closed businesses and {} instances of surviving businesses.'.format(y.sum(), y.shape[0] - y.sum()))\n",
    "print('Percentage of businesses that closed: {:.2f}'.format(float(100 * y.sum()) / y.shape[0]))"
   ]
  },
  {
   "cell_type": "markdown",
   "metadata": {},
   "source": [
    "Optimize k (from Coursera's Machine Learning With Python)"
   ]
  },
  {
   "cell_type": "code",
   "execution_count": 36,
   "metadata": {},
   "outputs": [],
   "source": [
    "from sklearn.neighbors import KNeighborsClassifier\n",
    "from sklearn.model_selection import train_test_split\n",
    "X_train, X_test, y_train, y_test = train_test_split(X, y, test_size = 0.2, random_state = 4)"
   ]
  },
  {
   "cell_type": "code",
   "execution_count": 37,
   "metadata": {},
   "outputs": [],
   "source": [
    "scaler = StandardScaler()"
   ]
  },
  {
   "cell_type": "code",
   "execution_count": 38,
   "metadata": {},
   "outputs": [
    {
     "name": "stdout",
     "output_type": "stream",
     "text": [
      "Optimal k = 1\n"
     ]
    }
   ],
   "source": [
    "Ks = 25\n",
    "mean_acc = np.zeros((Ks-1))\n",
    "std_acc = np.zeros((Ks-1))\n",
    "\n",
    "scaler.fit(X_train)\n",
    "X_train = scaler.transform(X_train)\n",
    "X_test = scaler.transform(X_test)\n",
    "\n",
    "for n in range(1,Ks):\n",
    "    \n",
    "    #Train Model and Predict  \n",
    "    neigh = KNeighborsClassifier(n_neighbors = n).fit(X_train, y_train)\n",
    "    yhat = neigh.predict(X_test)\n",
    "    mean_acc[n-1] = metrics.accuracy_score(y_test, yhat)\n",
    "    std_acc[n-1]=np.std(yhat == y_test)/np.sqrt(yhat.shape[0])\n",
    "\n",
    "optimal_k = mean_acc.argmax()+1\n",
    "print(\"Optimal k =\", optimal_k)"
   ]
  },
  {
   "cell_type": "markdown",
   "metadata": {},
   "source": [
    "Apply various classifiers"
   ]
  },
  {
   "cell_type": "code",
   "execution_count": 39,
   "metadata": {},
   "outputs": [],
   "source": [
    "def stratified_cv(X, y, clf_class, n_splits = 5, shuffle = True, random_state = 4, **kwargs):\n",
    "    stratified_k_fold = model_selection.StratifiedKFold(n_splits = n_splits, shuffle = shuffle, random_state = random_state)\n",
    "    y_pred = y.copy()\n",
    "    for ii, jj in stratified_k_fold.split(X,y):\n",
    "        X_train, X_test = X[ii], X[jj]\n",
    "        \n",
    "        scaler.fit(X_train)\n",
    "        X_train = scaler.transform(X_train)\n",
    "        X_test = scaler.transform(X_test)\n",
    "        \n",
    "        y_train = y[ii]\n",
    "        clf = clf_class(**kwargs)\n",
    "        clf.fit(X_train, y_train)\n",
    "        y_pred[jj] = clf.predict(X_test)\n",
    "        \n",
    "    return y_pred"
   ]
  },
  {
   "cell_type": "code",
   "execution_count": 40,
   "metadata": {},
   "outputs": [],
   "source": [
    "y_pred_pac = stratified_cv(X, y, linear_model.PassiveAggressiveClassifier)\n",
    "y_pred_rc = stratified_cv(X, y, linear_model.RidgeClassifier)\n",
    "y_pred_LR = stratified_cv(X, y, linear_model.LogisticRegression) \n",
    "y_pred_gbc = stratified_cv(X, y, ensemble.GradientBoostingClassifier)\n",
    "y_pred_abc = stratified_cv(X, y, ensemble.AdaBoostClassifier)\n",
    "y_pred_rfc = stratified_cv(X, y, ensemble.RandomForestClassifier)\n",
    "y_pred_dtc = stratified_cv(X, y, tree.DecisionTreeClassifier)\n",
    "y_pred_SVM = stratified_cv(X, y, svm.SVC)\n",
    "y_pred_KNN = stratified_cv(X, y, neighbors.KNeighborsClassifier, n_neighbors = optimal_k)"
   ]
  },
  {
   "cell_type": "code",
   "execution_count": 41,
   "metadata": {
    "scrolled": true
   },
   "outputs": [
    {
     "name": "stdout",
     "output_type": "stream",
     "text": [
      "Passive Aggressive Classifier: 0.91\n",
      "Ridge Classifier:              0.95\n",
      "Logistic Regression:           0.95\n",
      "Gradient Boosting Classifier:  0.94\n",
      "AdaBoost Classifier:           0.94\n",
      "Random Forest Classifier:      0.95\n",
      "Decision Tree Classifier:      0.86\n",
      "Support Vector Machine (SVM):  0.95\n",
      "K Nearest Neighbor Classifier: 0.94\n",
      "Naive Classifier:              0.95\n"
     ]
    }
   ],
   "source": [
    "print('Passive Aggressive Classifier: {:.2f}'.format(metrics.accuracy_score(y, y_pred_pac)))\n",
    "print('Ridge Classifier:              {:.2f}'.format(metrics.accuracy_score(y, y_pred_rc)))\n",
    "print('Logistic Regression:           {:.2f}'.format(metrics.accuracy_score(y, y_pred_LR)))\n",
    "print('Gradient Boosting Classifier:  {:.2f}'.format(metrics.accuracy_score(y, y_pred_gbc)))\n",
    "print('AdaBoost Classifier:           {:.2f}'.format(metrics.accuracy_score(y, y_pred_abc)))\n",
    "print('Random Forest Classifier:      {:.2f}'.format(metrics.accuracy_score(y, y_pred_rfc)))\n",
    "print('Decision Tree Classifier:      {:.2f}'.format(metrics.accuracy_score(y, y_pred_dtc)))\n",
    "print('Support Vector Machine (SVM):  {:.2f}'.format(metrics.accuracy_score(y, y_pred_SVM)))\n",
    "print('K Nearest Neighbor Classifier: {:.2f}'.format(metrics.accuracy_score(y, y_pred_KNN)))\n",
    "print('Naive Classifier:              {:.2f}'.format(metrics.accuracy_score(y, [0 for ii in y.tolist()])))"
   ]
  },
  {
   "cell_type": "code",
   "execution_count": 42,
   "metadata": {},
   "outputs": [
    {
     "data": {
      "image/png": "[encoded data removed]",
      "text/plain": [
       "<Figure size 1152x864 with 20 Axes>"
      ]
     },
     "metadata": {
      "needs_background": "light"
     },
     "output_type": "display_data"
    }
   ],
   "source": [
    "pass_agg_conf_matrix = metrics.confusion_matrix(y, y_pred_pac)\n",
    "ridge_clf_conf_matrix = metrics.confusion_matrix(y, y_pred_rc)\n",
    "logistic_reg_conf_matrix = metrics.confusion_matrix(y, y_pred_LR)\n",
    "gradboost_conf_matrix = metrics.confusion_matrix(y, y_pred_gbc)\n",
    "adaboost_conf_matrix = metrics.confusion_matrix(y, y_pred_abc)\n",
    "random_forest_conf_matrix = metrics.confusion_matrix(y, y_pred_rfc)\n",
    "decision_conf_matrix = metrics.confusion_matrix(y, y_pred_dtc)\n",
    "svm_svc_conf_matrix = metrics.confusion_matrix(y, y_pred_SVM)\n",
    "knn_conf_matrix = metrics.confusion_matrix(y, y_pred_KNN)\n",
    "naive_conf_matrix = metrics.confusion_matrix(y, [0 for ii in y.tolist()]);\n",
    "\n",
    "conf_matrix = {\n",
    "                1: {\n",
    "                    'matrix': pass_agg_conf_matrix,\n",
    "                    'title': 'Passive Aggressive',\n",
    "                   },\n",
    "                2: {\n",
    "                    'matrix': ridge_clf_conf_matrix,\n",
    "                    'title': 'Ridge',\n",
    "                   },\n",
    "                3: {\n",
    "                    'matrix': logistic_reg_conf_matrix,\n",
    "                    'title': 'Logistic Regression',   \n",
    "                   },\n",
    "                4: {\n",
    "                    'matrix': gradboost_conf_matrix,\n",
    "                    'title': 'Gradient Boosting',\n",
    "                   },\n",
    "                5: {\n",
    "                    'matrix': adaboost_conf_matrix,\n",
    "                    'title': 'AdaBoost'\n",
    "                   },\n",
    "                6: {\n",
    "                    'matrix': random_forest_conf_matrix,\n",
    "                    'title': 'Random Forest',\n",
    "                   },\n",
    "                7: {\n",
    "                    'matrix': decision_conf_matrix,\n",
    "                    'title': 'Decision Tree',\n",
    "                   },\n",
    "                8:  {    \n",
    "                    'matrix': svm_svc_conf_matrix,\n",
    "                    'title': 'Support Vector Machine',\n",
    "                },\n",
    "                9: {\n",
    "                    'matrix': knn_conf_matrix,\n",
    "                    'title': 'K Nearest Neighbors',\n",
    "                   },\n",
    "               10: {\n",
    "                    'matrix': naive_conf_matrix,\n",
    "                    'title': 'Naive',\n",
    "                   },\n",
    "}\n",
    "\n",
    "fix, ax = plt.subplots(figsize = (16, 12))\n",
    "plt.suptitle('Confusion Matrix for Each Classifier')\n",
    "for ii, values in conf_matrix.items():\n",
    "    matrix = values['matrix']\n",
    "    title = values['title']\n",
    "    plt.subplot(3, 4, ii) # starts from 1\n",
    "    plt.title(title);\n",
    "    sns.heatmap(matrix, annot = True,  fmt = '');"
   ]
  },
  {
   "cell_type": "code",
   "execution_count": 43,
   "metadata": {},
   "outputs": [
    {
     "name": "stdout",
     "output_type": "stream",
     "text": [
      "Passive Aggressive Classifier:\n",
      "               precision    recall  f1-score   support\n",
      "\n",
      "           0       0.94      0.96      0.95       107\n",
      "           1       0.00      0.00      0.00         6\n",
      "\n",
      "    accuracy                           0.91       113\n",
      "   macro avg       0.47      0.48      0.48       113\n",
      "weighted avg       0.89      0.91      0.90       113\n",
      "\n",
      "\n",
      "Ridge Classifier:\n",
      "               precision    recall  f1-score   support\n",
      "\n",
      "           0       0.95      1.00      0.97       107\n",
      "           1       0.00      0.00      0.00         6\n",
      "\n",
      "    accuracy                           0.95       113\n",
      "   macro avg       0.47      0.50      0.49       113\n",
      "weighted avg       0.90      0.95      0.92       113\n",
      "\n",
      "\n",
      "Logistic Regression:\n",
      "               precision    recall  f1-score   support\n",
      "\n",
      "           0       0.95      1.00      0.97       107\n",
      "           1       0.00      0.00      0.00         6\n",
      "\n",
      "    accuracy                           0.95       113\n",
      "   macro avg       0.47      0.50      0.49       113\n",
      "weighted avg       0.90      0.95      0.92       113\n",
      "\n",
      "\n",
      "Gradient Boosting Classifier:\n",
      "               precision    recall  f1-score   support\n",
      "\n",
      "           0       0.95      0.98      0.97       107\n",
      "           1       0.33      0.17      0.22         6\n",
      "\n",
      "    accuracy                           0.94       113\n",
      "   macro avg       0.64      0.57      0.59       113\n",
      "weighted avg       0.92      0.94      0.93       113\n",
      "\n",
      "\n",
      "AdaBoost Classifier:\n",
      "               precision    recall  f1-score   support\n",
      "\n",
      "           0       0.95      0.98      0.97       107\n",
      "           1       0.33      0.17      0.22         6\n",
      "\n",
      "    accuracy                           0.94       113\n",
      "   macro avg       0.64      0.57      0.59       113\n",
      "weighted avg       0.92      0.94      0.93       113\n",
      "\n",
      "\n",
      "Random Forest Classifier:\n",
      "               precision    recall  f1-score   support\n",
      "\n",
      "           0       0.95      1.00      0.97       107\n",
      "           1       0.00      0.00      0.00         6\n",
      "\n",
      "    accuracy                           0.95       113\n",
      "   macro avg       0.47      0.50      0.49       113\n",
      "weighted avg       0.90      0.95      0.92       113\n",
      "\n",
      "\n",
      "Decision Tree Classifier:\n",
      "               precision    recall  f1-score   support\n",
      "\n",
      "           0       0.96      0.89      0.92       107\n",
      "           1       0.14      0.33      0.20         6\n",
      "\n",
      "    accuracy                           0.86       113\n",
      "   macro avg       0.55      0.61      0.56       113\n",
      "weighted avg       0.92      0.86      0.88       113\n",
      "\n",
      "\n",
      "Support Vector Machine (SVM):\n",
      "               precision    recall  f1-score   support\n",
      "\n",
      "           0       0.95      1.00      0.97       107\n",
      "           1       0.00      0.00      0.00         6\n",
      "\n",
      "    accuracy                           0.95       113\n",
      "   macro avg       0.47      0.50      0.49       113\n",
      "weighted avg       0.90      0.95      0.92       113\n",
      "\n",
      "\n",
      "K Nearest Neighbor Classifier:\n",
      "               precision    recall  f1-score   support\n",
      "\n",
      "           0       0.96      0.97      0.97       107\n",
      "           1       0.40      0.33      0.36         6\n",
      "\n",
      "    accuracy                           0.94       113\n",
      "   macro avg       0.68      0.65      0.67       113\n",
      "weighted avg       0.93      0.94      0.94       113\n",
      "\n",
      "\n",
      "Naive Classifier:\n",
      "               precision    recall  f1-score   support\n",
      "\n",
      "           0       0.95      1.00      0.97       107\n",
      "           1       0.00      0.00      0.00         6\n",
      "\n",
      "    accuracy                           0.95       113\n",
      "   macro avg       0.47      0.50      0.49       113\n",
      "weighted avg       0.90      0.95      0.92       113\n",
      "\n",
      "\n"
     ]
    },
    {
     "name": "stderr",
     "output_type": "stream",
     "text": [
      "c:\\users\\andrew\\appdata\\local\\programs\\python\\python37-32\\lib\\site-packages\\sklearn\\metrics\\_classification.py:1221: UndefinedMetricWarning: Precision and F-score are ill-defined and being set to 0.0 in labels with no predicted samples. Use `zero_division` parameter to control this behavior.\n",
      "  _warn_prf(average, modifier, msg_start, len(result))\n"
     ]
    }
   ],
   "source": [
    "print('Passive Aggressive Classifier:\\n {}\\n'.format(metrics.classification_report(y, y_pred_pac)))\n",
    "print('Ridge Classifier:\\n {}\\n'.format(metrics.classification_report(y, y_pred_rc))) \n",
    "print('Logistic Regression:\\n {}\\n'.format(metrics.classification_report(y, y_pred_LR)))\n",
    "print('Gradient Boosting Classifier:\\n {}\\n'.format(metrics.classification_report(y, y_pred_gbc)))\n",
    "print('AdaBoost Classifier:\\n {}\\n'.format(metrics.classification_report(y, y_pred_abc)))\n",
    "print('Random Forest Classifier:\\n {}\\n'.format(metrics.classification_report(y, y_pred_rfc)))\n",
    "print('Decision Tree Classifier:\\n {}\\n'.format(metrics.classification_report(y, y_pred_dtc))) \n",
    "print('Support Vector Machine (SVM):\\n {}\\n'.format(metrics.classification_report(y, y_pred_SVM)))\n",
    "print('K Nearest Neighbor Classifier:\\n {}\\n'.format(metrics.classification_report(y, y_pred_KNN)))\n",
    "print('Naive Classifier:\\n {}\\n'.format(metrics.classification_report(y, [0 for ii in y.tolist()]))); "
   ]
  },
  {
   "cell_type": "markdown",
   "metadata": {},
   "source": [
    "Examine Feature Importance among Ensemble classifiers"
   ]
  },
  {
   "cell_type": "code",
   "execution_count": 44,
   "metadata": {},
   "outputs": [],
   "source": [
    "def getFeatureImportance(clf_class, clf_name):\n",
    "    feature_importance = clf_class.feature_importances_\n",
    "    feature_importance = 100.0 * (feature_importance / feature_importance.max())\n",
    "    sorted_idx = np.argsort(feature_importance)\n",
    "    pos = np.arange(sorted_idx.shape[0]) + .5\n",
    "    plt.figure(figsize = (16, 12))\n",
    "    plt.barh(pos, feature_importance[sorted_idx], align = 'center', color = '#65c2a5')  \n",
    "    plt.yticks(pos, np.asanyarray(licenses.columns.tolist())[sorted_idx])\n",
    "    plt.xlabel('Relative Importance')\n",
    "    plt.title(clf_name + 'Variable Importance')\n",
    "    plt.show()"
   ]
  },
  {
   "cell_type": "code",
   "execution_count": 45,
   "metadata": {},
   "outputs": [
    {
     "data": {
      "image/png": "[encoded data removed]",
      "text/plain": [
       "<Figure size 1152x864 with 1 Axes>"
      ]
     },
     "metadata": {
      "needs_background": "light"
     },
     "output_type": "display_data"
    }
   ],
   "source": [
    "gbc = ensemble.GradientBoostingClassifier()\n",
    "gbc.fit(X, y)\n",
    "getFeatureImportance(gbc, 'Gradient Boosting ~ ')"
   ]
  },
  {
   "cell_type": "code",
   "execution_count": 46,
   "metadata": {},
   "outputs": [
    {
     "data": {
      "image/png": "[encoded data removed]",
      "text/plain": [
       "<Figure size 1152x864 with 1 Axes>"
      ]
     },
     "metadata": {
      "needs_background": "light"
     },
     "output_type": "display_data"
    }
   ],
   "source": [
    "abc = ensemble.AdaBoostClassifier()\n",
    "abc.fit(X,y)\n",
    "getFeatureImportance(abc, 'AdaBoost ~ ')"
   ]
  },
  {
   "cell_type": "code",
   "execution_count": 47,
   "metadata": {},
   "outputs": [
    {
     "data": {
      "image/png": "[encoded data removed]",
      "text/plain": [
       "<Figure size 1152x864 with 1 Axes>"
      ]
     },
     "metadata": {
      "needs_background": "light"
     },
     "output_type": "display_data"
    }
   ],
   "source": [
    "rfc = ensemble.RandomForestClassifier()\n",
    "rfc.fit(X, y)\n",
    "getFeatureImportance(rfc, 'Random Forest ~ ')"
   ]
  },
  {
   "cell_type": "markdown",
   "metadata": {},
   "source": [
    "Retrain classifiers using squared variable for Years"
   ]
  },
  {
   "cell_type": "code",
   "execution_count": 48,
   "metadata": {},
   "outputs": [],
   "source": [
    "licenses['Years_2'] = licenses['Years']**2"
   ]
  },
  {
   "cell_type": "code",
   "execution_count": 49,
   "metadata": {},
   "outputs": [],
   "source": [
    "licenses.drop(['Years'], axis = 1, inplace = True)"
   ]
  },
  {
   "cell_type": "code",
   "execution_count": 50,
   "metadata": {},
   "outputs": [
    {
     "name": "stdout",
     "output_type": "stream",
     "text": [
      "Passive Aggressive Classifier: 0.88\n",
      "Ridge Classifier:              0.95\n",
      "Logistic Regression:           0.95\n",
      "Gradient Boosting Classifier:  0.94\n",
      "AdaBoost Classifier:           0.94\n",
      "Random Forest Classifier:      0.95\n",
      "Decision Tree Classifier:      0.87\n",
      "Support Vector Machine (SVM):  0.95\n",
      "K Nearest Neighbor Classifier: 0.94\n",
      "Naive Classifier:              0.95\n"
     ]
    }
   ],
   "source": [
    "print('Passive Aggressive Classifier: {:.2f}'.format(metrics.accuracy_score(y, stratified_cv(X, y, linear_model.PassiveAggressiveClassifier))))\n",
    "print('Ridge Classifier:              {:.2f}'.format(metrics.accuracy_score(y, stratified_cv(X, y, linear_model.RidgeClassifier))))\n",
    "print('Logistic Regression:           {:.2f}'.format(metrics.accuracy_score(y, stratified_cv(X, y, linear_model.LogisticRegression))))\n",
    "print('Gradient Boosting Classifier:  {:.2f}'.format(metrics.accuracy_score(y, stratified_cv(X, y, ensemble.GradientBoostingClassifier))))\n",
    "print('AdaBoost Classifier:           {:.2f}'.format(metrics.accuracy_score(y, stratified_cv(X, y, ensemble.AdaBoostClassifier))))\n",
    "print('Random Forest Classifier:      {:.2f}'.format(metrics.accuracy_score(y, stratified_cv(X, y, ensemble.RandomForestClassifier))))\n",
    "print('Decision Tree Classifier:      {:.2f}'.format(metrics.accuracy_score(y, stratified_cv(X, y, tree.DecisionTreeClassifier))))\n",
    "print('Support Vector Machine (SVM):  {:.2f}'.format(metrics.accuracy_score(y, stratified_cv(X, y, svm.SVC))))\n",
    "print('K Nearest Neighbor Classifier: {:.2f}'.format(metrics.accuracy_score(y, stratified_cv(X, y, neighbors.KNeighborsClassifier, n_neighbors = optimal_k))))\n",
    "print('Naive Classifier:              {:.2f}'.format(metrics.accuracy_score(y, [0 for ii in y.tolist()])))"
   ]
  },
  {
   "cell_type": "markdown",
   "metadata": {},
   "source": [
    "Drop Years feature altogether"
   ]
  },
  {
   "cell_type": "code",
   "execution_count": 51,
   "metadata": {},
   "outputs": [],
   "source": [
    "licenses.drop(['Years_2'], axis = 1, inplace = True)"
   ]
  },
  {
   "cell_type": "code",
   "execution_count": 52,
   "metadata": {},
   "outputs": [
    {
     "name": "stdout",
     "output_type": "stream",
     "text": [
      "Passive Aggressive Classifier: 0.88\n",
      "Ridge Classifier:              0.95\n",
      "Logistic Regression:           0.95\n",
      "Gradient Boosting Classifier:  0.94\n",
      "AdaBoost Classifier:           0.94\n",
      "Random Forest Classifier:      0.95\n",
      "Decision Tree Classifier:      0.86\n",
      "Support Vector Machine (SVM):  0.95\n",
      "K Nearest Neighbor Classifier: 0.94\n",
      "Naive Classifier:              0.95\n"
     ]
    }
   ],
   "source": [
    "print('Passive Aggressive Classifier: {:.2f}'.format(metrics.accuracy_score(y, stratified_cv(X, y, linear_model.PassiveAggressiveClassifier))))\n",
    "print('Ridge Classifier:              {:.2f}'.format(metrics.accuracy_score(y, stratified_cv(X, y, linear_model.RidgeClassifier))))\n",
    "print('Logistic Regression:           {:.2f}'.format(metrics.accuracy_score(y, stratified_cv(X, y, linear_model.LogisticRegression)))) \n",
    "print('Gradient Boosting Classifier:  {:.2f}'.format(metrics.accuracy_score(y, stratified_cv(X, y, ensemble.GradientBoostingClassifier))))\n",
    "print('AdaBoost Classifier:           {:.2f}'.format(metrics.accuracy_score(y, stratified_cv(X, y, ensemble.AdaBoostClassifier))))\n",
    "print('Random Forest Classifier:      {:.2f}'.format(metrics.accuracy_score(y, stratified_cv(X, y, ensemble.RandomForestClassifier))))\n",
    "print('Decision Tree Classifier:      {:.2f}'.format(metrics.accuracy_score(y, stratified_cv(X, y, tree.DecisionTreeClassifier))))\n",
    "print('Support Vector Machine (SVM):  {:.2f}'.format(metrics.accuracy_score(y, stratified_cv(X, y, svm.SVC))))\n",
    "print('K Nearest Neighbor Classifier: {:.2f}'.format(metrics.accuracy_score(y, stratified_cv(X, y, neighbors.KNeighborsClassifier, n_neighbors = optimal_k))))\n",
    "print('Naive Classifier:              {:.2f}'.format(metrics.accuracy_score(y, [0 for ii in y.tolist()])))"
   ]
  },
  {
   "cell_type": "code",
   "execution_count": null,
   "metadata": {},
   "outputs": [],
   "source": []
  }
 ],
 "metadata": {
  "kernelspec": {
   "display_name": "Python 3",
   "language": "python",
   "name": "python3"
  },
  "language_info": {
   "codemirror_mode": {
    "name": "ipython",
    "version": 3
   },
   "file_extension": ".py",
   "mimetype": "text/x-python",
   "name": "python",
   "nbconvert_exporter": "python",
   "pygments_lexer": "ipython3",
   "version": "3.7.6"
  }
 },
 "nbformat": 4,
 "nbformat_minor": 1
}
